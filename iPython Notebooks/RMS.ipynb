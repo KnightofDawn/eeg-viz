{
 "cells": [
  {
   "cell_type": "code",
   "execution_count": 1,
   "metadata": {
    "collapsed": false
   },
   "outputs": [],
   "source": [
    "import pandas as pd\n",
    "import matplotlib as mpl\n",
    "import matplotlib.pyplot as plt\n",
    "import numpy as np\n",
    "from scipy.stats import pearsonr\n",
    "from scipy import stats\n",
    "from scipy.io import loadmat\n",
    "from sklearn.cluster.bicluster import SpectralBiclustering, SpectralCocltustering"
   ]
  },
  {
   "cell_type": "code",
   "execution_count": 2,
   "metadata": {
    "collapsed": false
   },
   "outputs": [
    {
     "data": {
      "text/plain": [
       "array([[ -2.07190155e+02,  -2.03527939e+02,  -2.05969421e+02, ...,\n",
       "          3.05185094e-02,   3.05185094e-02,   3.05185094e-02],\n",
       "       [  6.88697937e+02,   6.97276855e+02,   6.92646973e+02, ...,\n",
       "          6.80867955e-02,   6.80867955e-02,   6.80867955e-02],\n",
       "       [  2.37355884e+03,   2.37961743e+03,   2.37278540e+03, ...,\n",
       "          6.44550920e-02,   6.44550920e-02,   6.44550920e-02],\n",
       "       ..., \n",
       "       [ -4.41503320e+03,  -4.39737500e+03,  -4.39964502e+03, ...,\n",
       "          1.26132995e-01,   1.26132995e-01,   1.26132995e-01],\n",
       "       [  3.95151215e+02,   4.03647583e+02,   3.98832977e+02, ...,\n",
       "          7.08029419e-02,   7.08029419e-02,   7.08029419e-02],\n",
       "       [  3.45103174e+03,   2.98338867e+03,   2.65364038e+03, ...,\n",
       "          3.33079010e-01,   3.33079010e-01,   3.33079010e-01]], dtype=float32)"
      ]
     },
     "execution_count": 2,
     "metadata": {},
     "output_type": "execute_result"
    }
   ],
   "source": [
    "data = loadmat('s5d2nap_justdata.mat')['s5d2nap']\n",
    "data"
   ]
  },
  {
   "cell_type": "code",
   "execution_count": 3,
   "metadata": {
    "collapsed": true
   },
   "outputs": [],
   "source": [
    "np.array(data).dump('s5d2np_numpy.dump')"
   ]
  },
  {
   "cell_type": "code",
   "execution_count": 3,
   "metadata": {
    "collapsed": false,
    "scrolled": true
   },
   "outputs": [
    {
     "name": "stdout",
     "output_type": "stream",
     "text": [
      "z  0 z  1 z  2 z  3 z  4 z  5 z  6 z  7 z  8 z  9 z  10 z  11 z  12 z  13 z  14 z  15 z  16 z  17 z  18 z  19 z  20 z  21 z  22 z  23 z  24 z  25 z  26 z  27 z  28 z  29 z  30 z  31 z  32 z  33 z  34 z  35 z  36 z  37 z  38 z  39 z  40 z  41 z  42 z  43 z  44 z  45 z  46 z  47 z  48 z  49 z  50 z  51 z  52 z  53 z  54 z  55 z  56 z  57 z  58 z  59 z  60 z  61 z  62 z  63\n"
     ]
    }
   ],
   "source": [
    "for index, row in enumerate(data):\n",
    "    data[index] = stats.zscore(row)"
   ]
  },
  {
   "cell_type": "code",
   "execution_count": 11,
   "metadata": {
    "collapsed": false
   },
   "outputs": [
    {
     "data": {
      "text/plain": [
       "(64, 3383768)"
      ]
     },
     "execution_count": 11,
     "metadata": {},
     "output_type": "execute_result"
    }
   ],
   "source": [
    "len(data), len(data[0])"
   ]
  },
  {
   "cell_type": "code",
   "execution_count": 14,
   "metadata": {
    "collapsed": false,
    "scrolled": true
   },
   "outputs": [
    {
     "name": "stdout",
     "output_type": "stream",
     "text": [
      " 0 1 2 3 4 5 6 7 8 9 10 11 12 13 14 15 16 17 18 19 20 21 22 23 24 25 26 27 28 29 30 31 32 33 34 35 36 37 38 39 40 41 42 43 44 45 46 47 48 49 50 51 52 53 54 55 56 57 58 59 60 61 62 63 64 65 66 67 68 69 70 71 72 73 74 75 76 77 78 79 80 81 82 83 84 85 86 87 88 89 90 91 92 93 94 95 96 97 98 99 100 101 102 103 104 105 106 107 108 109 110 111 112 113 114 115 116 117 118 119 120 121 122 123 124 125 126 127 128 129 130 131 132 133 134 135 136 137 138 139 140 141 142 143 144 145 146 147 148 149 150 151 152 153 154 155 156 157 158 159 160 161 162 163 164 165 166 167 168 169 170 171 172 173 174 175 176 177 178 179 180 181 182 183 184 185 186 187 188 189 190 191 192 193 194 195 196 197 198 199 200 201 202 203 204 205 206 207 208 209 210 211 212 213 214 215 216 217 218 219 220 221 222 223 224 225 226 227 228 229 230 231 232 233 234 235 236 237 238 239 240 241 242 243 244 245 246 247 248 249 250 251 252 253 254 255 256 257 258 259 260 261 262 263 264 265 266 267 268 269 270 271 272 273 274 275 276 277 278 279 280 281 282 283 284 285 286 287 288 289 290 291 292 293 294 295 296 297 298 299 300 301 302 303 304 305 306 307 308 309 310 311 312 313 314 315 316 317 318 319 320 321 322 323 324 325 326 327 328 329 330 331 332 333 334 335 336 337\n"
     ]
    }
   ],
   "source": [
    "length_of_intervals = 10000\n",
    "channels = range(63)\n",
    "iterations = range(len(data[0])/length_of_intervals)\n",
    "pearson_data = [[] for j in iterations]\n",
    "\n",
    "# def pearson_(interval):\n",
    "#     print '|',\n",
    "#     start, end = interval, interval + length_of_intervals\n",
    "#     for i in channels:\n",
    "#         for j in range(63):\n",
    "#             if i <= j:\n",
    "#                 pearson_data[interval].append(pearsonr(data[i][start:end], data[j][start:end])[0])\n",
    "start, end = 0,  length_of_intervals\n",
    "interval = 0\n",
    "while end <= len(data[0]):\n",
    "    print interval,\n",
    "    for i in channels:\n",
    "        for j in range(63):\n",
    "            if i <= j:\n",
    "                pearson_data[interval].append(pearsonr(data[i][start:end], data[j][start:end])[0])\n",
    "    start = end\n",
    "    end += length_of_intervals\n",
    "    interval += 1"
   ]
  },
  {
   "cell_type": "code",
   "execution_count": 15,
   "metadata": {
    "collapsed": false
   },
   "outputs": [
    {
     "data": {
      "text/plain": [
       "(338, 2016, 338)"
      ]
     },
     "execution_count": 15,
     "metadata": {},
     "output_type": "execute_result"
    }
   ],
   "source": [
    "len(pearson_data), len(pearson_data[0]), len(iterations)"
   ]
  },
  {
   "cell_type": "code",
   "execution_count": 8,
   "metadata": {
    "collapsed": false
   },
   "outputs": [],
   "source": [
    "# for i in iterations:\n",
    "for i in range(0):\n",
    "    pearson_(i)"
   ]
  },
  {
   "cell_type": "code",
   "execution_count": 9,
   "metadata": {
    "collapsed": false
   },
   "outputs": [],
   "source": [
    "np.array(pearson_data).dump('pearson_z_10_reprocess.dump')"
   ]
  },
  {
   "cell_type": "code",
   "execution_count": 13,
   "metadata": {
    "collapsed": false
   },
   "outputs": [
    {
     "data": {
      "text/plain": [
       "(339, 63)"
      ]
     },
     "execution_count": 13,
     "metadata": {},
     "output_type": "execute_result"
    }
   ],
   "source": [
    "len(channels_data), len(channels_data[0][0])"
   ]
  },
  {
   "cell_type": "code",
   "execution_count": 16,
   "metadata": {
    "collapsed": false
   },
   "outputs": [],
   "source": [
    "for i in iterations:\n",
    "    for j in channels:\n",
    "        if pearson_data[i][j] is None:\n",
    "            print i,j "
   ]
  },
  {
   "cell_type": "code",
   "execution_count": 17,
   "metadata": {
    "collapsed": false
   },
   "outputs": [],
   "source": [
    "p = np.array(pearson_data)\n",
    "spectral_model = SpectralBiclustering()\n",
    "spectral_model.fit(p)"
   ]
  },
  {
   "cell_type": "code",
   "execution_count": 18,
   "metadata": {
    "collapsed": false
   },
   "outputs": [],
   "source": [
    "fit_data = p[np.argsort(spectral_model.row_labels_)]\n",
    "fit_data = fit_data[:, np.argsort(spectral_model.column_labels_)]\n",
    "plt.matshow(p, cmap=plt.cm.Blues)\n",
    "plt.matshow(fit_data, cmap=plt.cm.Blues)\n",
    "plt.matshow(np.outer(np.sort(spectral_model.row_labels_) + 1,\n",
    "                     np.sort(spectral_model.column_labels_) + 1),\n",
    "            cmap=plt.cm.Blues)\n",
    "plt.show()"
   ]
  },
  {
   "cell_type": "code",
   "execution_count": 22,
   "metadata": {
    "collapsed": false
   },
   "outputs": [],
   "source": [
    "outer = np.outer(np.sort(spectral_model.row_labels_) + 1, np.sort(spectral_model.column_labels_) + 1)"
   ]
  },
  {
   "cell_type": "code",
   "execution_count": 31,
   "metadata": {
    "collapsed": false
   },
   "outputs": [
    {
     "data": {
      "text/plain": [
       "array([[ True,  True,  True, ...,  True,  True,  True],\n",
       "       [ True,  True,  True, ...,  True,  True,  True],\n",
       "       [ True,  True,  True, ...,  True,  True,  True],\n",
       "       ..., \n",
       "       [False, False, False, ..., False, False, False],\n",
       "       [False, False, False, ..., False, False, False],\n",
       "       [False, False, False, ..., False, False, False]], dtype=bool)"
      ]
     },
     "execution_count": 31,
     "metadata": {},
     "output_type": "execute_result"
    }
   ],
   "source": [
    "spectral_model.rows_"
   ]
  },
  {
   "cell_type": "code",
   "execution_count": null,
   "metadata": {
    "collapsed": true
   },
   "outputs": [],
   "source": [
    "import simplejson\n",
    "with open('media/pearson_z_2016_remake.json', 'w+') as f:\n",
    "    pearson_data = np.array(data)\n",
    "    p = [[float(column) for column in row] for row in pearson_data]\n",
    "    f.write(simplejson.dumps({'name': 's5d2nap', 'data': p}))"
   ]
  },
  {
   "cell_type": "code",
   "execution_count": 1,
   "metadata": {
    "collapsed": true
   },
   "outputs": [],
   "source": [
    "from math import*\n",
    "from scipy.io import loadmat\n",
    "m = loadmat('s5d2nap_justdata.mat')\n",
    "matrix = m['s5d2nap']\n",
    "def square_rooted(x):\n",
    "    return round(sqrt(sum([a*a for a in x])),3)\n",
    "def cosine_similarity(x,y):\n",
    "     numerator = sum(a*b for a,b in zip(x,y))\n",
    "     denominator = square_rooted(x)*square_rooted(y)\n",
    "     return round(numerator/float(denominator),3)"
   ]
  },
  {
   "cell_type": "code",
   "execution_count": null,
   "metadata": {
    "collapsed": true
   },
   "outputs": [],
   "source": [
    "cos_data = [[0 for i in range(63)] for j in range(63)]\n",
    "for i in range(63):\n",
    "    print i\n",
    "    for j in range(63):\n",
    "        cos_data[i][j] = cosine_similarity(matrix[i],matrix[j])"
   ]
  },
  {
   "cell_type": "code",
   "execution_count": 1,
   "metadata": {
    "collapsed": true
   },
   "outputs": [],
   "source": [
    "from scipy.io import loadmat\n",
    "data= loadmat('s5d2nap_wholestruct.mat')"
   ]
  },
  {
   "cell_type": "code",
   "execution_count": 3,
   "metadata": {
    "collapsed": false
   },
   "outputs": [
    {
     "ename": "KeyError",
     "evalue": "'s5d2nap'",
     "output_type": "error",
     "traceback": [
      "\u001b[1;31m---------------------------------------------------------------------------\u001b[0m",
      "\u001b[1;31mKeyError\u001b[0m                                  Traceback (most recent call last)",
      "\u001b[1;32m<ipython-input-3-1b928b8eac2b>\u001b[0m in \u001b[0;36m<module>\u001b[1;34m()\u001b[0m\n\u001b[1;32m----> 1\u001b[1;33m \u001b[0mmatrix\u001b[0m \u001b[1;33m=\u001b[0m \u001b[0mdata\u001b[0m\u001b[1;33m[\u001b[0m\u001b[1;34m's5d2nap'\u001b[0m\u001b[1;33m]\u001b[0m\u001b[1;33m\u001b[0m\u001b[0m\n\u001b[0m",
      "\u001b[1;31mKeyError\u001b[0m: 's5d2nap'"
     ]
    }
   ],
   "source": [
    "matrix = data['s5d2nap']"
   ]
  },
  {
   "cell_type": "code",
   "execution_count": null,
   "metadata": {
    "collapsed": true
   },
   "outputs": [],
   "source": []
  }
 ],
 "metadata": {
  "kernelspec": {
   "display_name": "Python 2",
   "language": "python",
   "name": "python2"
  },
  "language_info": {
   "codemirror_mode": {
    "name": "ipython",
    "version": 2
   },
   "file_extension": ".py",
   "mimetype": "text/x-python",
   "name": "python",
   "nbconvert_exporter": "python",
   "pygments_lexer": "ipython2",
   "version": "2.7.8"
  }
 },
 "nbformat": 4,
 "nbformat_minor": 0
}
