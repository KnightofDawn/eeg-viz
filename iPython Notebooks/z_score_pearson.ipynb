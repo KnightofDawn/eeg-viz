{
 "cells": [
  {
   "cell_type": "code",
   "execution_count": 1,
   "metadata": {
    "collapsed": false
   },
   "outputs": [
    {
     "ename": "ImportError",
     "evalue": "cannot import name find_contours",
     "output_type": "error",
     "traceback": [
      "\u001b[1;31m---------------------------------------------------------------------------\u001b[0m",
      "\u001b[1;31mImportError\u001b[0m                               Traceback (most recent call last)",
      "\u001b[1;32m<ipython-input-1-a5cb821a9c92>\u001b[0m in \u001b[0;36m<module>\u001b[1;34m()\u001b[0m\n\u001b[0;32m      7\u001b[0m \u001b[1;32mfrom\u001b[0m \u001b[0mscipy\u001b[0m\u001b[1;33m.\u001b[0m\u001b[0mio\u001b[0m \u001b[1;32mimport\u001b[0m \u001b[0mloadmat\u001b[0m\u001b[1;33m\u001b[0m\u001b[0m\n\u001b[0;32m      8\u001b[0m \u001b[1;32mfrom\u001b[0m \u001b[0msklearn\u001b[0m\u001b[1;33m.\u001b[0m\u001b[0mcluster\u001b[0m\u001b[1;33m.\u001b[0m\u001b[0mbicluster\u001b[0m \u001b[1;32mimport\u001b[0m \u001b[0mSpectralBiclustering\u001b[0m\u001b[1;33m,\u001b[0m \u001b[0mSpectralCoclustering\u001b[0m\u001b[1;33m\u001b[0m\u001b[0m\n\u001b[1;32m----> 9\u001b[1;33m \u001b[1;32mfrom\u001b[0m \u001b[0mskimage\u001b[0m \u001b[1;32mimport\u001b[0m \u001b[0mmeasure\u001b[0m\u001b[1;33m\u001b[0m\u001b[0m\n\u001b[0m\u001b[0;32m     10\u001b[0m \u001b[1;33m\u001b[0m\u001b[0m\n\u001b[0;32m     11\u001b[0m \u001b[1;32mimport\u001b[0m \u001b[0mcPickle\u001b[0m\u001b[1;33m\u001b[0m\u001b[0m\n",
      "\u001b[1;32mC:\\Users\\Fioger\\Anaconda2\\lib\\site-packages\\skimage\\measure\\__init__.py\u001b[0m in \u001b[0;36m<module>\u001b[1;34m()\u001b[0m\n\u001b[1;32m----> 1\u001b[1;33m \u001b[1;32mfrom\u001b[0m \u001b[1;33m.\u001b[0m\u001b[0m_find_contours\u001b[0m \u001b[1;32mimport\u001b[0m \u001b[0mfind_contours\u001b[0m\u001b[1;33m\u001b[0m\u001b[0m\n\u001b[0m\u001b[0;32m      2\u001b[0m from ._marching_cubes import (marching_cubes, mesh_surface_area,\n\u001b[0;32m      3\u001b[0m                               correct_mesh_orientation)\n\u001b[0;32m      4\u001b[0m \u001b[1;32mfrom\u001b[0m \u001b[1;33m.\u001b[0m\u001b[0m_regionprops\u001b[0m \u001b[1;32mimport\u001b[0m \u001b[0mregionprops\u001b[0m\u001b[1;33m,\u001b[0m \u001b[0mperimeter\u001b[0m\u001b[1;33m\u001b[0m\u001b[0m\n\u001b[0;32m      5\u001b[0m \u001b[1;32mfrom\u001b[0m \u001b[1;33m.\u001b[0m\u001b[0msimple_metrics\u001b[0m \u001b[1;32mimport\u001b[0m \u001b[0mcompare_mse\u001b[0m\u001b[1;33m,\u001b[0m \u001b[0mcompare_nrmse\u001b[0m\u001b[1;33m,\u001b[0m \u001b[0mcompare_psnr\u001b[0m\u001b[1;33m\u001b[0m\u001b[0m\n",
      "\u001b[1;31mImportError\u001b[0m: cannot import name find_contours"
     ]
    }
   ],
   "source": [
    "import pandas as pd\n",
    "import matplotlib as mpl\n",
    "import matplotlib.pyplot as plt\n",
    "import numpy as np\n",
    "from scipy.stats import pearsonr\n",
    "from scipy import stats\n",
    "from scipy.io import loadmat\n",
    "from sklearn.cluster.bicluster import SpectralBiclustering, SpectralCoclustering\n",
    "from skimage import measure\n",
    "\n",
    "import cPickle\n",
    "from eegtools.io import load_edf"
   ]
  },
  {
   "cell_type": "code",
   "execution_count": 4,
   "metadata": {
    "collapsed": false,
    "scrolled": true
   },
   "outputs": [
    {
     "name": "stdout",
     "output_type": "stream",
     "text": [
      "64 3383768\n"
     ]
    }
   ],
   "source": [
    "data1 = np.load('C:\\Users\\Fioger\\Desktop\\eeg-viz\\s5d2np_numpy.dump')\n",
    "print len(data1), len(data1[0])"
   ]
  },
  {
   "cell_type": "code",
   "execution_count": 5,
   "metadata": {
    "collapsed": true
   },
   "outputs": [],
   "source": [
    "data = stats.zscore(data1)"
   ]
  },
  {
   "cell_type": "code",
   "execution_count": 6,
   "metadata": {
    "collapsed": true
   },
   "outputs": [],
   "source": [
    "length_of_intervals = 30000\n",
    "channels = 61\n",
    "edges = 1891\n",
    "total_interval = len(data[0])/length_of_intervals + 1\n",
    "channels_data = [[None for j in range(edges)] for i in range(total_interval)] "
   ]
  },
  {
   "cell_type": "code",
   "execution_count": 7,
   "metadata": {
    "collapsed": false,
    "scrolled": true
   },
   "outputs": [],
   "source": [
    "def calculate_pearson(interval):\n",
    "    index_counter = 0\n",
    "    j = length_of_intervals * interval\n",
    "    for start in range(channels):\n",
    "        for index in range(channels):\n",
    "            if start <= index:\n",
    "                if interval != total_interval:\n",
    "                    channels_data[interval][index_counter] = pearsonr(data[start][j:j + length_of_intervals],\n",
    "                                                                     data[index][j:j + length_of_intervals])[0]\n",
    "                else:\n",
    "                    channels_data[interval][index_counter] = pearsonr(data[start][j:], data[index][j:])[0]\n",
    "                index_counter += 1\n",
    "    print index_counter"
   ]
  },
  {
   "cell_type": "code",
   "execution_count": 8,
   "metadata": {
    "collapsed": false,
    "scrolled": true
   },
   "outputs": [
    {
     "name": "stdout",
     "output_type": "stream",
     "text": [
      "Calculating Interval 0 1891\n",
      "Calculating Interval 1 1891\n",
      "Calculating Interval 2 1891\n",
      "Calculating Interval 3 1891\n",
      "Calculating Interval 4 1891\n",
      "Calculating Interval 5 1891\n",
      "Calculating Interval 6 1891\n",
      "Calculating Interval 7 1891\n",
      "Calculating Interval 8 1891\n",
      "Calculating Interval 9 1891\n",
      "Calculating Interval 10 1891\n",
      "Calculating Interval 11 1891\n",
      "Calculating Interval 12 1891\n",
      "Calculating Interval 13 1891\n",
      "Calculating Interval 14 1891\n",
      "Calculating Interval 15 1891\n",
      "Calculating Interval 16 1891\n",
      "Calculating Interval 17 1891\n",
      "Calculating Interval 18 1891\n",
      "Calculating Interval 19 1891\n",
      "Calculating Interval 20 1891\n",
      "Calculating Interval 21 1891\n",
      "Calculating Interval 22 1891\n",
      "Calculating Interval 23 1891\n",
      "Calculating Interval 24 1891\n",
      "Calculating Interval 25 1891\n",
      "Calculating Interval 26 1891\n",
      "Calculating Interval 27 1891\n",
      "Calculating Interval 28 1891\n",
      "Calculating Interval 29 1891\n",
      "Calculating Interval 30 1891\n",
      "Calculating Interval 31 1891\n",
      "Calculating Interval 32 1891\n",
      "Calculating Interval 33 1891\n",
      "Calculating Interval 34 1891\n",
      "Calculating Interval 35 1891\n",
      "Calculating Interval 36 1891\n",
      "Calculating Interval 37 1891\n",
      "Calculating Interval 38 1891\n",
      "Calculating Interval 39 1891\n",
      "Calculating Interval 40 1891\n",
      "Calculating Interval 41 1891\n",
      "Calculating Interval 42 1891\n",
      "Calculating Interval 43 1891\n",
      "Calculating Interval 44 1891\n",
      "Calculating Interval 45 1891\n",
      "Calculating Interval 46 1891\n",
      "Calculating Interval 47 1891\n",
      "Calculating Interval 48 1891\n",
      "Calculating Interval 49 1891\n",
      "Calculating Interval 50 1891\n",
      "Calculating Interval 51 1891\n",
      "Calculating Interval 52 1891\n",
      "Calculating Interval 53 1891\n",
      "Calculating Interval 54 1891\n",
      "Calculating Interval 55 1891\n",
      "Calculating Interval 56 1891\n",
      "Calculating Interval 57 1891\n",
      "Calculating Interval 58 1891\n",
      "Calculating Interval 59 1891\n",
      "Calculating Interval 60 1891\n",
      "Calculating Interval 61 1891\n",
      "Calculating Interval 62 1891\n",
      "Calculating Interval 63 1891\n",
      "Calculating Interval 64 1891\n",
      "Calculating Interval 65 1891\n",
      "Calculating Interval 66 1891\n",
      "Calculating Interval 67 1891\n",
      "Calculating Interval 68 1891\n",
      "Calculating Interval 69 1891\n",
      "Calculating Interval 70 1891\n",
      "Calculating Interval 71 1891\n",
      "Calculating Interval 72 1891\n",
      "Calculating Interval 73 1891\n",
      "Calculating Interval 74 1891\n",
      "Calculating Interval 75 1891\n",
      "Calculating Interval 76 1891\n",
      "Calculating Interval 77 1891\n",
      "Calculating Interval 78 1891\n",
      "Calculating Interval 79 1891\n",
      "Calculating Interval 80 1891\n",
      "Calculating Interval 81 1891\n",
      "Calculating Interval 82 1891\n",
      "Calculating Interval 83 1891\n",
      "Calculating Interval 84 1891\n",
      "Calculating Interval 85 1891\n",
      "Calculating Interval 86 1891\n",
      "Calculating Interval 87 1891\n",
      "Calculating Interval 88 1891\n",
      "Calculating Interval 89 1891\n",
      "Calculating Interval 90 1891\n",
      "Calculating Interval 91 1891\n",
      "Calculating Interval 92 1891\n",
      "Calculating Interval 93 1891\n",
      "Calculating Interval 94 1891\n",
      "Calculating Interval 95 1891\n",
      "Calculating Interval 96 1891\n",
      "Calculating Interval 97 1891\n",
      "Calculating Interval 98 1891\n",
      "Calculating Interval 99 1891\n",
      "Calculating Interval 100 1891\n",
      "Calculating Interval 101 1891\n",
      "Calculating Interval 102 1891\n",
      "Calculating Interval 103 1891\n",
      "Calculating Interval 104 1891\n",
      "Calculating Interval 105 1891\n",
      "Calculating Interval 106 1891\n",
      "Calculating Interval 107 1891\n",
      "Calculating Interval 108 1891\n",
      "Calculating Interval 109 1891\n",
      "Calculating Interval 110 1891\n",
      "Calculating Interval 111 1891\n",
      "Calculating Interval 112 1891\n"
     ]
    }
   ],
   "source": [
    "for i in range(total_interval):\n",
    "    print 'Calculating Interval %s' % i,\n",
    "    calculate_pearson(i)"
   ]
  },
  {
   "cell_type": "code",
   "execution_count": 9,
   "metadata": {
    "collapsed": false,
    "scrolled": true
   },
   "outputs": [],
   "source": [
    "post_process_data = np.array(channels_data)\n",
    "spectral_model = SpectralBiclustering()\n",
    "spectral_model.fit(post_process_data)\n",
    "fit_data = post_process_data[np.argsort(spectral_model.row_labels_)]\n",
    "fit_data = fit_data[:, np.argsort(spectral_model.column_labels_)]\n",
    "plt.matshow(post_process_data, cmap=plt.cm.Blues)\n",
    "plt.title('Original Pearson after Z-Score 30s intervals\\n')\n",
    "plt.show()\n",
    "plt.matshow(fit_data, cmap=plt.cm.Blues)\n",
    "plt.title('Biclustered Pearson after Z-Score 30s intervals\\n')\n",
    "plt.show()"
   ]
  },
  {
   "cell_type": "code",
   "execution_count": 30,
   "metadata": {
    "collapsed": false
   },
   "outputs": [],
   "source": [
    "import json as simplejson\n",
    "with open('C:\\Users\\Fioger\\Desktop\\eeg-viz\\postprocess/pearson/z_score/z-score-matrix-30s.json', 'w+') as f:\n",
    "    p = [[float(column) for column in row] for row in post_process_data]\n",
    "    f.write(simplejson.dumps({'name': 's5d2nap', 'data': p}))\n",
    "\n",
    "cols = np.argsort(spectral_model.column_labels_)\n",
    "rows = np.argsort(spectral_model.row_labels_)\n",
    "indices_matrix = []   \n",
    "for row in rows:\n",
    "    for col in cols:\n",
    "        indices_matrix.append((float(row),float(col)))\n",
    "\n",
    "with open('C:\\Users\\Fioger\\Desktop\\eeg-viz\\postprocess/pearson/z_score/fitted-indices-z-score-pearson-30s.json', 'w+') as f:\n",
    "    f.write(simplejson.dumps({'name': 's5d2nap', 'data': indices_matrix}))\n",
    "\n",
    "with open('C:\\Users\\Fioger\\Desktop\\eeg-viz\\postprocess/pearson/z_score/z_score_pearson_30s_dump.dump', 'wb') as f:\n",
    "    cPickle.dump(channels_data, f)"
   ]
  },
  {
   "cell_type": "code",
   "execution_count": null,
   "metadata": {
    "collapsed": true
   },
   "outputs": [],
   "source": []
  }
 ],
 "metadata": {
  "kernelspec": {
   "display_name": "Python 2",
   "language": "python",
   "name": "python2"
  },
  "language_info": {
   "codemirror_mode": {
    "name": "ipython",
    "version": 2
   },
   "file_extension": ".py",
   "mimetype": "text/x-python",
   "name": "python",
   "nbconvert_exporter": "python",
   "pygments_lexer": "ipython2",
   "version": "2.7.11"
  }
 },
 "nbformat": 4,
 "nbformat_minor": 0
}
