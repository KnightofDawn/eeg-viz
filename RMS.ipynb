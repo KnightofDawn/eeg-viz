{
 "cells": [
  {
   "cell_type": "code",
   "execution_count": 1,
   "metadata": {
    "collapsed": true
   },
   "outputs": [],
   "source": [
    "import pandas as pd\n",
    "import matplotlib as mpl\n",
    "import matplotlib.pyplot as plt\n",
    "import numpy as np\n",
    "from scipy.stats import pearsonr\n",
    "from scipy import stats\n",
    "from scipy.io import loadmat\n",
    "from sklearn.cluster.bicluster import SpectralBiclustering, SpectralCoclustering"
   ]
  },
  {
   "cell_type": "code",
   "execution_count": 8,
   "metadata": {
    "collapsed": false
   },
   "outputs": [
    {
     "data": {
      "text/plain": [
       "2.7386127875258306"
      ]
     },
     "execution_count": 8,
     "metadata": {},
     "output_type": "execute_result"
    }
   ],
   "source": [
    "sqrt(mean(square([1,2,3,4])))\n",
    "def rs"
   ]
  },
  {
   "cell_type": "code",
   "execution_count": 5,
   "metadata": {
    "collapsed": false
   },
   "outputs": [
    {
     "data": {
      "text/plain": [
       "array([[ -2.07190155e+02,  -2.03527939e+02,  -2.05969421e+02, ...,\n",
       "          3.05185094e-02,   3.05185094e-02,   3.05185094e-02],\n",
       "       [  6.88697937e+02,   6.97276855e+02,   6.92646973e+02, ...,\n",
       "          6.80867955e-02,   6.80867955e-02,   6.80867955e-02],\n",
       "       [  2.37355884e+03,   2.37961743e+03,   2.37278540e+03, ...,\n",
       "          6.44550920e-02,   6.44550920e-02,   6.44550920e-02],\n",
       "       ..., \n",
       "       [ -4.41503320e+03,  -4.39737500e+03,  -4.39964502e+03, ...,\n",
       "          1.26132995e-01,   1.26132995e-01,   1.26132995e-01],\n",
       "       [  3.95151215e+02,   4.03647583e+02,   3.98832977e+02, ...,\n",
       "          7.08029419e-02,   7.08029419e-02,   7.08029419e-02],\n",
       "       [  3.45103174e+03,   2.98338867e+03,   2.65364038e+03, ...,\n",
       "          3.33079010e-01,   3.33079010e-01,   3.33079010e-01]], dtype=float32)"
      ]
     },
     "execution_count": 5,
     "metadata": {},
     "output_type": "execute_result"
    }
   ],
   "source": [
    "data = loadmat('s5d2nap_justdata.mat')['s5d2nap']\n",
    "data"
   ]
  },
  {
   "cell_type": "code",
   "execution_count": 6,
   "metadata": {
    "collapsed": false
   },
   "outputs": [
    {
     "name": "stdout",
     "output_type": "stream",
     "text": [
      "z scoring 0 z scoring 1 z scoring 2 z scoring 3 z scoring 4 z scoring 5 z scoring 6 z scoring 7 z scoring 8 z scoring 9 z scoring 10 z scoring 11 z scoring 12 z scoring 13 z scoring 14 z scoring 15 z scoring 16 z scoring 17 z scoring 18 z scoring 19 z scoring 20 z scoring 21 z scoring 22 z scoring 23 z scoring 24 z scoring 25 z scoring 26 z scoring 27 z scoring 28 z scoring 29 z scoring 30 z scoring 31 z scoring 32 z scoring 33 z scoring 34 z scoring 35 z scoring 36 z scoring 37 z scoring 38 z scoring 39 z scoring 40 z scoring 41 z scoring 42 z scoring 43 z scoring 44 z scoring 45 z scoring 46 z scoring 47 z scoring 48 z scoring 49 z scoring 50 z scoring 51 z scoring 52 z scoring 53 z scoring 54 z scoring 55 z scoring 56 z scoring 57 z scoring 58 z scoring 59 z scoring 60 z scoring 61 z scoring 62 z scoring 63\n"
     ]
    }
   ],
   "source": [
    "for index, row in enumerate(data):\n",
    "    print 'z scoring', index,\n",
    "    data[index] = stats.zscore(row)"
   ]
  },
  {
   "cell_type": "code",
   "execution_count": 7,
   "metadata": {
    "collapsed": false
   },
   "outputs": [
    {
     "data": {
      "text/plain": [
       "array([[ 0.47058326,  0.47503453,  0.47206703, ...,  0.72245395,\n",
       "         0.72245395,  0.72245395],\n",
       "       [-0.38235265, -0.37954161, -0.38105866, ..., -0.60799223,\n",
       "        -0.60799223, -0.60799223],\n",
       "       [ 1.12161732,  1.12345183,  1.12138307, ...,  0.40293455,\n",
       "         0.40293455,  0.40293455],\n",
       "       ..., \n",
       "       [-1.41837335, -1.41358113, -1.41419709, ..., -0.22015539,\n",
       "        -0.22015539, -0.22015539],\n",
       "       [-0.23900484, -0.23134793, -0.23568684, ..., -0.59505016,\n",
       "        -0.59505016, -0.59505016],\n",
       "       [ 1.67063773,  1.19575226,  0.8608973 , ..., -1.83350122,\n",
       "        -1.83350122, -1.83350122]], dtype=float32)"
      ]
     },
     "execution_count": 7,
     "metadata": {},
     "output_type": "execute_result"
    }
   ],
   "source": [
    "data"
   ]
  },
  {
   "cell_type": "code",
   "execution_count": 8,
   "metadata": {
    "collapsed": false
   },
   "outputs": [
    {
     "name": "stdout",
     "output_type": "stream",
     "text": [
      "0 "
     ]
    },
    {
     "ename": "NameError",
     "evalue": "global name 'interval_lengths' is not defined",
     "output_type": "error",
     "traceback": [
      "\u001b[1;31m---------------------------------------------------------------------------\u001b[0m",
      "\u001b[1;31mNameError\u001b[0m                                 Traceback (most recent call last)",
      "\u001b[1;32m<ipython-input-8-c464b2ef89a8>\u001b[0m in \u001b[0;36m<module>\u001b[1;34m()\u001b[0m\n\u001b[0;32m     18\u001b[0m \u001b[1;32mfor\u001b[0m \u001b[0mi\u001b[0m \u001b[1;32min\u001b[0m \u001b[0mchannels\u001b[0m\u001b[1;33m:\u001b[0m\u001b[1;33m\u001b[0m\u001b[0m\n\u001b[0;32m     19\u001b[0m     \u001b[1;32mprint\u001b[0m \u001b[1;34m'%i '\u001b[0m \u001b[1;33m%\u001b[0m \u001b[0mi\u001b[0m\u001b[1;33m,\u001b[0m\u001b[1;33m\u001b[0m\u001b[0m\n\u001b[1;32m---> 20\u001b[1;33m     \u001b[0mindex_counter\u001b[0m \u001b[1;33m=\u001b[0m \u001b[0mpearson_\u001b[0m\u001b[1;33m(\u001b[0m\u001b[0mi\u001b[0m\u001b[1;33m,\u001b[0m \u001b[0mindex_counter\u001b[0m\u001b[1;33m)\u001b[0m\u001b[1;33m\u001b[0m\u001b[0m\n\u001b[0m",
      "\u001b[1;32m<ipython-input-8-c464b2ef89a8>\u001b[0m in \u001b[0;36mpearson_\u001b[1;34m(start, index_counter)\u001b[0m\n\u001b[0;32m      6\u001b[0m \u001b[1;32mdef\u001b[0m \u001b[0mpearson_\u001b[0m\u001b[1;33m(\u001b[0m\u001b[0mstart\u001b[0m\u001b[1;33m,\u001b[0m \u001b[0mindex_counter\u001b[0m\u001b[1;33m)\u001b[0m\u001b[1;33m:\u001b[0m\u001b[1;33m\u001b[0m\u001b[0m\n\u001b[0;32m      7\u001b[0m     \u001b[1;32mfor\u001b[0m \u001b[0mchannel\u001b[0m \u001b[1;32min\u001b[0m \u001b[0mchannels\u001b[0m\u001b[1;33m:\u001b[0m\u001b[1;33m\u001b[0m\u001b[0m\n\u001b[1;32m----> 8\u001b[1;33m         \u001b[0minit\u001b[0m\u001b[1;33m,\u001b[0m \u001b[0mend\u001b[0m \u001b[1;33m=\u001b[0m \u001b[1;36m0\u001b[0m\u001b[1;33m,\u001b[0m \u001b[0minterval_lengths\u001b[0m\u001b[1;33m\u001b[0m\u001b[0m\n\u001b[0m\u001b[0;32m      9\u001b[0m         \u001b[1;32mif\u001b[0m \u001b[0mstart\u001b[0m \u001b[1;33m<\u001b[0m \u001b[0mchannel\u001b[0m\u001b[1;33m:\u001b[0m\u001b[1;33m\u001b[0m\u001b[0m\n\u001b[0;32m     10\u001b[0m             \u001b[1;32mfor\u001b[0m \u001b[0mcol\u001b[0m \u001b[1;32min\u001b[0m \u001b[0mcolumns\u001b[0m\u001b[1;33m:\u001b[0m\u001b[1;33m\u001b[0m\u001b[0m\n",
      "\u001b[1;31mNameError\u001b[0m: global name 'interval_lengths' is not defined"
     ]
    }
   ],
   "source": [
    "# Try pearson\n",
    "pearson_data = [[None for j in range(1953)] for i in range(1953)]\n",
    "channels = range(63)\n",
    "columns = range(1953)\n",
    "index_counter = 0\n",
    "def pearson_(start, index_counter):\n",
    "    for channel in channels:\n",
    "        init, end = 0, interval_lengths\n",
    "        if start < channel:\n",
    "            for col in columns:\n",
    "                pearson_data[index_counter][col] = pearsonr(data[start][init:end], data[channel][init:end])[0]\n",
    "                init = end\n",
    "                end += interval_lengths\n",
    "            index_counter += 1\n",
    "    return index_counter\n",
    "\n",
    "# for i in range(2):\n",
    "for i in channels:\n",
    "    print '%i ' % i,\n",
    "    index_counter = pearson_(i, index_counter)"
   ]
  },
  {
   "cell_type": "code",
   "execution_count": null,
   "metadata": {
    "collapsed": true
   },
   "outputs": [],
   "source": []
  }
 ],
 "metadata": {
  "kernelspec": {
   "display_name": "Python 2",
   "language": "python",
   "name": "python2"
  },
  "language_info": {
   "codemirror_mode": {
    "name": "ipython",
    "version": 2
   },
   "file_extension": ".py",
   "mimetype": "text/x-python",
   "name": "python",
   "nbconvert_exporter": "python",
   "pygments_lexer": "ipython2",
   "version": "2.7.8"
  }
 },
 "nbformat": 4,
 "nbformat_minor": 0
}
