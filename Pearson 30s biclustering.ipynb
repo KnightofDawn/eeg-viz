{
 "cells": [
  {
   "cell_type": "code",
   "execution_count": 1,
   "metadata": {
    "collapsed": true
   },
   "outputs": [],
   "source": [
    "import pandas as pd\n",
    "%matplotlib inline\n",
    "import matplotlib as mpl\n",
    "import matplotlib.pyplot as plt\n",
    "import numpy as np\n",
    "from scipy.stats import pearsonr\n",
    "from scipy import stats\n",
    "from scipy.io import loadmat\n",
    "from sklearn.cluster.bicluster import SpectralBiclustering, SpectralCoclustering\n",
    "\n",
    "import cPickle"
   ]
  },
  {
   "cell_type": "code",
   "execution_count": 2,
   "metadata": {
    "collapsed": false,
    "scrolled": true
   },
   "outputs": [
    {
     "name": "stdout",
     "output_type": "stream",
     "text": [
      "Calculating Channel 0\n",
      "Calculating Channel 1\n",
      "Calculating Channel 2\n",
      "Calculating Channel 3\n",
      "Calculating Channel 4\n",
      "Calculating Channel 5\n",
      "Calculating Channel 6\n",
      "Calculating Channel 7\n",
      "Calculating Channel 8\n",
      "Calculating Channel 9\n",
      "Calculating Channel 10\n",
      "Calculating Channel 11\n",
      "Calculating Channel 12\n",
      "Calculating Channel 13\n",
      "Calculating Channel 14\n",
      "Calculating Channel 15\n",
      "Calculating Channel 16\n",
      "Calculating Channel 17\n",
      "Calculating Channel 18\n",
      "Calculating Channel 19\n",
      "Calculating Channel 20\n",
      "Calculating Channel 21\n",
      "Calculating Channel 22\n",
      "Calculating Channel 23\n",
      "Calculating Channel 24\n",
      "Calculating Channel 25\n",
      "Calculating Channel 26\n",
      "Calculating Channel 27\n",
      "Calculating Channel 28\n",
      "Calculating Channel 29\n",
      "Calculating Channel 30\n",
      "Calculating Channel 31\n",
      "Calculating Channel 32\n",
      "Calculating Channel 33\n",
      "Calculating Channel 34\n",
      "Calculating Channel 35\n",
      "Calculating Channel 36\n",
      "Calculating Channel 37\n",
      "Calculating Channel 38\n",
      "Calculating Channel 39\n",
      "Calculating Channel 40\n",
      "Calculating Channel 41\n",
      "Calculating Channel 42\n",
      "Calculating Channel 43\n",
      "Calculating Channel 44\n",
      "Calculating Channel 45\n",
      "Calculating Channel 46\n",
      "Calculating Channel 47\n",
      "Calculating Channel 48\n",
      "Calculating Channel 49\n",
      "Calculating Channel 50\n",
      "Calculating Channel 51\n",
      "Calculating Channel 52\n",
      "Calculating Channel 53\n",
      "Calculating Channel 54\n",
      "Calculating Channel 55\n",
      "Calculating Channel 56\n",
      "Calculating Channel 57\n",
      "Calculating Channel 58\n",
      "Calculating Channel 59\n",
      "Calculating Channel 60\n",
      "Calculating Channel 61\n",
      "Calculating Channel 62\n"
     ]
    }
   ],
   "source": [
    "z_scores = np.load('raw_z_npdump.dump')\n",
    "\n",
    "length_of_intervals = 30000\n",
    "\n",
    "channels_data = [[[0 for i in range(63)] for i in range(63)] for i in range(len(z_scores[0])/length_of_intervals + 1)]\n",
    "\n",
    "\n",
    "def calculate_pearson(start):\n",
    "    for interval in range(len(z_scores[start]) / length_of_intervals + 1):\n",
    "        j = length_of_intervals * interval\n",
    "        # print j, interval\n",
    "        if interval == len(z_scores[start]) / length_of_intervals + 1:\n",
    "            for index in range(63):\n",
    "                channels_data[interval][start][index] = pearsonr(z_scores[start][j:], z_scores[index][j:])[0]\n",
    "        else:\n",
    "            for index in range(63):\n",
    "                channels_data[interval][start][index] = pearsonr(z_scores[start][j:j + length_of_intervals],\n",
    "                                                                 z_scores[index][j:j + length_of_intervals])[0]\n",
    "\n",
    "\n",
    "def dump_z_score_pearson():\n",
    "    with open('z_score_pearson_30second_dump.dump', 'wb') as f:\n",
    "        cPickle.dump(channels_data, f)\n",
    "\n",
    "\n",
    "if __name__ == '__main__':\n",
    "    for i in range(63):\n",
    "        print 'Calculating Channel %s' % i\n",
    "        calculate_pearson(i)\n",
    "    dump_z_score_pearson()\n"
   ]
  },
  {
   "cell_type": "code",
   "execution_count": null,
   "metadata": {
    "collapsed": true
   },
   "outputs": [],
   "source": []
  }
 ],
 "metadata": {
  "kernelspec": {
   "display_name": "Python 2",
   "language": "python",
   "name": "python2"
  },
  "language_info": {
   "codemirror_mode": {
    "name": "ipython",
    "version": 2
   },
   "file_extension": ".py",
   "mimetype": "text/x-python",
   "name": "python",
   "nbconvert_exporter": "python",
   "pygments_lexer": "ipython2",
   "version": "2.7.11"
  }
 },
 "nbformat": 4,
 "nbformat_minor": 0
}
