{
 "cells": [
  {
   "cell_type": "code",
   "execution_count": 1,
   "metadata": {
    "collapsed": true
   },
   "outputs": [],
   "source": [
    "from mne.preprocessing.ica import ICA\n",
    "import mne"
   ]
  },
  {
   "cell_type": "code",
   "execution_count": 2,
   "metadata": {
    "collapsed": false
   },
   "outputs": [
    {
     "name": "stdout",
     "output_type": "stream",
     "text": [
      "Extracting edf Parameters from ../suj5_d2_nap.edf...\n",
      "Setting channel info structure...\n",
      "Creating Raw.info structure...\n",
      "Reading 0 ... 3383767  =      0.000 ...  3383.767 secs...\n",
      "Ready.\n"
     ]
    }
   ],
   "source": [
    "raw = mne.io.read_raw_edf('../suj5_d2_nap.edf',stim_channel=None,preload=True)"
   ]
  },
  {
   "cell_type": "code",
   "execution_count": null,
   "metadata": {
    "collapsed": true
   },
   "outputs": [],
   "source": [
    "raw.pick_channels(raw.ch_names[:61])"
   ]
  },
  {
   "cell_type": "code",
   "execution_count": null,
   "metadata": {
    "collapsed": true
   },
   "outputs": [],
   "source": [
    "ica = ICA(n_components=None, n_pca_components=None, max_pca_components=None,max_iter=3000,\n",
    "      noise_cov=None, random_state=0)\n",
    "picks=mne.pick_types(raw.info,meg=False,eeg=True,eog=False,stim=False)\n",
    "ica.fit(raw,picks=picks,decim=3,reject=dict(mag=4e-12, grad=4000e-13))\n",
    "ica.detect_artifacts(raw,eog_ch='ROC',eog_criterion=0.5)\n",
    "clean_raw = ica.apply(raw,exclude=ica.exclude)\n",
    "if low_frequency is not None and high_frequency is not None:\n",
    "    clean_raw.filter(low_frequency,high_frequency)\n",
    "elif low_frequency is not None or high_frequency is not None:\n",
    "    try: \n",
    "        clean_raw.filter(low_frequency,500)\n",
    "    except:\n",
    "        clean_raw.filter(0,high_frequency)\n",
    "else:\n",
    "    clean_raw = clean_raw"
   ]
  }
 ],
 "metadata": {
  "kernelspec": {
   "display_name": "Python 2",
   "language": "python",
   "name": "python2"
  },
  "language_info": {
   "codemirror_mode": {
    "name": "ipython",
    "version": 2
   },
   "file_extension": ".py",
   "mimetype": "text/x-python",
   "name": "python",
   "nbconvert_exporter": "python",
   "pygments_lexer": "ipython2",
   "version": "2.7.8"
  }
 },
 "nbformat": 4,
 "nbformat_minor": 0
}
