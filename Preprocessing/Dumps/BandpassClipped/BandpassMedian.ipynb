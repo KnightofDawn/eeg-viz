{
 "cells": [
  {
   "cell_type": "code",
   "execution_count": 1,
   "metadata": {
    "collapsed": true
   },
   "outputs": [],
   "source": [
    "import matplotlib.pyplot as plt\n",
    "import numpy as np\n",
    "from scipy import signal\n",
    "from scipy.stats import pearsonr,zscore"
   ]
  },
  {
   "cell_type": "code",
   "execution_count": null,
   "metadata": {
    "collapsed": false
   },
   "outputs": [],
   "source": [
    "data1 = np.load('bandClipped1.dumps')\n",
    "#data1.dump('band1MedCut.dumps')\n",
    "data2 = np.load('bandClipped2.dumps')\n",
    "#data2.dump('band2MedCut.dumps')\n",
    "data3 = np.load('bandClipped3.dumps')\n",
    "#data3.dump('band3MedCut.dumps')\n",
    "data4 = np.load('bandClipped4.dumps')\n",
    "#data4.dump('band4MedCut.dumps')\n",
    "data5 = np.load('bandClipped5.dumps')\n",
    "#data5.dump('band5MedCut.dumps')\n",
    "data6 = np.load('bandClipped6.dumps')\n",
    "#data6.dump('band6MedCut.dumps')"
   ]
  },
  {
   "cell_type": "code",
   "execution_count": null,
   "metadata": {
    "collapsed": false
   },
   "outputs": [],
   "source": [
    "\n",
    "data1M = np.load('FMedian1.dumps')\n",
    "data2M = np.load('FMedian2.dumps')\n",
    "data3M = np.load('FMedian3.dumps')\n",
    "data4M = np.load('FMedian4.dumps')\n",
    "data5M = np.load('FMedian5.dumps')\n",
    "data6M = np.load('FMedian6.dumps')\n",
    "\n",
    "\n",
    "fig1 = plt.figure()\n",
    "fig2 = plt.figure()\n",
    "fig3 = plt.figure()\n",
    "fig4 = plt.figure()\n",
    "figs = [fig1, fig2, fig3, fig4]\n",
    "channels_data = [[0 for i in range(63)] for i in range(63)]\n",
    "\n",
    "#def calculate_correlation(start):\n",
    "#    for j in range(4):\n",
    "#        for i in range(16):\n",
    "#            index = 16 * j + i\n",
    "#            fig = figs[j]\n",
    "#            ax = fig.add_subplot(4, 4, i + 1)\n",
    "#            channels_data[start][index] = pearsonr(s[start], s[index])[0]\n",
    "#            ax.plot(s[start], ys, 'r')\n",
    "#            fig.tight_layout()\n",
    "\n",
    "i=1\n",
    "x = np.arange(0,3383.766,.001)\n",
    "\n",
    "data = np.zeros(shape=(61,3383766))\n",
    "\n",
    "for index, column in enumerate(data3):\n",
    "    if (index != 63 and index != 62 and index != 61):\n",
    "\t    data[index] = np.concatenate((data1[index]-data1M[index],data2[index]-data2M[index],data3[index]-data3M[index],data4[index]-data1M[index],data5[index],data6[index]))\n",
    "\n",
    "#data1 = signal.medfilt(data1)\n",
    "#data2 = signal.medfilt(data2)\n",
    "#data3 = signal.medfilt(data3)\n",
    "#data4 = signal.medfilt(data4)\n",
    "#data5 = signal.medfilt(data5)\n",
    "#data6 = signal.medfilt(data6)\n",
    "\n",
    "#data = signal.medfilt(data)\n",
    "#data = zscore(data)\n",
    "print \"So....\"\n",
    "\"\"\"\n",
    "matrix=[]\n",
    "for index, row in (enumerate(data)):\n",
    "\tif(index!=63 and index!=62 and index!=61):\n",
    "\t\tprint index\n",
    "\t\tmatrix.append(row[0:600000])\n",
    "        print \"Is it working now?\"\n",
    "\n",
    "matrix = np.array(matrix)\n",
    "\"\"\"\n",
    "#print \"So....\"\n",
    "\n",
    "for index, column in enumerate(data):\n",
    "    #band = band +\n",
    "    if(i<=16):\n",
    "        ax = fig1.add_subplot(4, 4, i)\n",
    "        ax.set_title('Channel %s' % (i))\n",
    "        ax.set_xlabel('Sec')\n",
    "        ax.plot(x, column)\n",
    "    elif(i<=32):\n",
    "        ax = fig2.add_subplot(4, 4, i - 16)\n",
    "        ax.set_title('Channel %s' % (i))\n",
    "        ax.set_xlabel('Sec')\n",
    "        ax.plot(x, column)\n",
    "    elif (i <= 48):\n",
    "        ax = fig3.add_subplot(4, 4, i - 32)\n",
    "        ax.set_title('Channel %s' % (i))\n",
    "        ax.set_xlabel('Sec')\n",
    "        ax.plot(x, column)\n",
    "    elif (i <= 64):\n",
    "        ax = fig4.add_subplot(4, 4, i - 48)\n",
    "        ax.set_title('Channel %s' % (i))\n",
    "        ax.set_xlabel('Sec')\n",
    "        ax.plot(x, column)\n",
    "        print \"Is it \"\n",
    "    i+=1\n",
    "\n",
    "\n",
    "#data1.dump('Median1.dumps')\n",
    "#data2.dump('Median2.dumps')\n",
    "#data3.dump('Median3.dumps')\n",
    "#data4.dump('Median4.dumps')\n",
    "#data5.dump('Median5.dumps')\n",
    "#data6.dump('Median6.dumps')\n",
    "\n",
    "#matrix.dump('FMedian1.dumps')\n",
    "\n",
    "\n",
    "print \"Well?\"\n",
    "plt.show()"
   ]
  },
  {
   "cell_type": "code",
   "execution_count": null,
   "metadata": {
    "collapsed": true
   },
   "outputs": [],
   "source": []
  }
 ],
 "metadata": {
  "kernelspec": {
   "display_name": "Python 2",
   "language": "python",
   "name": "python2"
  },
  "language_info": {
   "codemirror_mode": {
    "name": "ipython",
    "version": 2
   },
   "file_extension": ".py",
   "mimetype": "text/x-python",
   "name": "python",
   "nbconvert_exporter": "python",
   "pygments_lexer": "ipython2",
   "version": "2.7.11"
  }
 },
 "nbformat": 4,
 "nbformat_minor": 0
}
