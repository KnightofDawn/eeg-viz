{
 "cells": [
  {
   "cell_type": "code",
   "execution_count": 1,
   "metadata": {
    "collapsed": true
   },
   "outputs": [],
   "source": [
    "import pandas as pd\n",
    "import matplotlib as mpl\n",
    "import matplotlib.pyplot as plt\n",
    "import numpy as np\n",
    "from scipy import signal\n",
    "from scipy.stats import pearsonr,zscore"
   ]
  },
  {
   "cell_type": "code",
   "execution_count": 2,
   "metadata": {
    "collapsed": true
   },
   "outputs": [],
   "source": [
    "band1 = np.load('ZScore1.dumps')\n",
    "band2 = np.load('ZScore2.dumps')\n",
    "band3 = np.load('ZScore3.dumps')\n",
    "band4 = np.load('ZScore4.dumps')\n",
    "band5 = np.load('ZScore5.dumps')\n",
    "band6 = np.load('ZScore6.dumps')"
   ]
  },
  {
   "cell_type": "code",
   "execution_count": null,
   "metadata": {
    "collapsed": false
   },
   "outputs": [],
   "source": [
    "fig1 = plt.figure()\n",
    "fig2 = plt.figure()\n",
    "fig3 = plt.figure()\n",
    "fig4 = plt.figure()\n",
    "figs = [fig1, fig2, fig3, fig4]\n",
    "channels_data = [[0 for i in range(64)] for i in range(64)]\n",
    "\n",
    "#def calculate_correlation(start):\n",
    "#    for j in range(4):\n",
    "#        for i in range(16):\n",
    "#            index = 16 * j + i\n",
    "#            fig = figs[j]\n",
    "#            ax = fig.add_subplot(4, 4, i + 1)\n",
    "#            channels_data[start][index] = pearsonr(s[start], s[index])[0]\n",
    "#            ax.plot(s[start], ys, 'r')\n",
    "#            fig.tight_layout()\n",
    "\n",
    "i=1\n",
    "x = np.arange(0,3383.766,.001)\n",
    "\n",
    "band = np.zeros(shape=(61,3383766))\n",
    "\n",
    "low = 0.3\n",
    "high = 30\n",
    "fs = 1000\n",
    "\n",
    "lowcut = low/(0.5*fs)\n",
    "highcut = high/(0.5*fs)\n",
    "\n",
    "\n",
    "#bandpass\n",
    "b3, a3 = signal.butter(2, [lowcut,highcut], 'band')\n",
    "w3, h3 = signal.freqs(b3, a3)\n",
    "\n",
    "for row in range(len(band1)):\n",
    "    band1[row] = (signal.lfilter(b3, a3, band1[row]))\n",
    "    band2[row] = (signal.lfilter(b3, a3, band2[row]))\n",
    "    band3[row] = (signal.lfilter(b3, a3, band3[row]))\n",
    "    band4[row] = (signal.lfilter(b3, a3, band4[row]))\n",
    "    band5[row] = (signal.lfilter(b3, a3, band5[row]))\n",
    "    band6[row] = (signal.lfilter(b3, a3, band6[row]))\n",
    "\n",
    "for index, column in enumerate(band3):\n",
    "    band[index] = np.concatenate((band1[index],band2[index],band3[index],band4[index],band5[index],band6[index]))\n",
    "\n",
    "    \n",
    "\n",
    "\n",
    "#eeg = signal.detrend(np.array(band),type='constant')\n",
    "#band = zscore(eeg)\n",
    "\n",
    "\n",
    "\n",
    "\n",
    "#matrix=[]\n",
    "#for index, row in (enumerate(band)):\n",
    "#\tif(index!=63 and index!=62 and index!=61):\n",
    "#\t\tprint index\n",
    "#\t\tmatrix.append(row[3000000:-1])\n",
    "\n",
    "#matrix = np.array(matrix)\n",
    "\n",
    "for index, column in enumerate(band):\n",
    "    #band = band +\n",
    "    if(i<=16):\n",
    "        ax = fig1.add_subplot(4, 4, i)\n",
    "        ax.set_title('Channel %s' % (i))\n",
    "        ax.set_xlabel('Sec')\n",
    "        ax.plot(x, column)\n",
    "    elif(i<=32):\n",
    "        ax = fig2.add_subplot(4, 4, i-16)\n",
    "        ax.set_title('Channel %s' % (i))\n",
    "        ax.set_xlabel('Sec')\n",
    "        ax.plot(x, column)\n",
    "    elif (i <= 48):\n",
    "        ax = fig3.add_subplot(4, 4, i - 32)\n",
    "        ax.set_title('Channel %s' % (i))\n",
    "        ax.set_xlabel('Sec')\n",
    "        ax.plot(x, column)\n",
    "    elif (i <= 64):\n",
    "        ax = fig4.add_subplot(4, 4, i - 48)\n",
    "        ax.set_title('Channel %s' % (i))\n",
    "        ax.set_xlabel('Sec')\n",
    "        ax.plot(x, column)\n",
    "    i+=1\n",
    "\n",
    "#band.dump('ZScore6.dumps')\n",
    "plt.show()"
   ]
  }
 ],
 "metadata": {
  "kernelspec": {
   "display_name": "Python 2",
   "language": "python",
   "name": "python2"
  },
  "language_info": {
   "codemirror_mode": {
    "name": "ipython",
    "version": 2
   },
   "file_extension": ".py",
   "mimetype": "text/x-python",
   "name": "python",
   "nbconvert_exporter": "python",
   "pygments_lexer": "ipython2",
   "version": "2.7.11"
  }
 },
 "nbformat": 4,
 "nbformat_minor": 0
}
